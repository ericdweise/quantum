{
 "cells": [
  {
   "cell_type": "markdown",
   "metadata": {},
   "source": [
    "This Notebook is my playing around with gates to make arbitrary state vectors. QISKit intializes each quantum circuit so that every qbit has the state |0>. This will be a reference later on for simulating different phenomena."
   ]
  },
  {
   "cell_type": "code",
   "execution_count": 1,
   "metadata": {},
   "outputs": [],
   "source": [
    "# Standard Library\n",
    "from math import pi\n",
    "\n",
    "# 3rd party mpdules\n",
    "from qiskit import Aer, execute, QuantumRegister, QuantumCircuit \n",
    "from qiskit.visualization import plot_histogram\n",
    "\n",
    "# My functions\n",
    "from myqiskit.visualize import statevector, statevector_pretty, matrix_pretty"
   ]
  },
  {
   "cell_type": "markdown",
   "metadata": {},
   "source": [
    "# 1 Qbit Wavefunctions\n",
    "Manipulation of a single qbit. The one qubit gates are "
   ]
  },
  {
   "cell_type": "code",
   "execution_count": 2,
   "metadata": {},
   "outputs": [
    {
     "data": {
      "text/markdown": [
       "\\begin{pmatrix}0.71\\\\0.71\\end{pmatrix}"
      ],
      "text/plain": [
       "<IPython.core.display.Markdown object>"
      ]
     },
     "metadata": {},
     "output_type": "display_data"
    }
   ],
   "source": [
    "# Create the state: |0> + |1> (normalized)\n",
    "qr = QuantumRegister(1)\n",
    "circuit = QuantumCircuit(qr)\n",
    "circuit.h(qr[0])\n",
    "statevector_pretty(circuit)"
   ]
  },
  {
   "cell_type": "code",
   "execution_count": 3,
   "metadata": {},
   "outputs": [
    {
     "data": {
      "text/markdown": [
       "\\begin{pmatrix}0\\\\1\\end{pmatrix}"
      ],
      "text/plain": [
       "<IPython.core.display.Markdown object>"
      ]
     },
     "metadata": {},
     "output_type": "display_data"
    }
   ],
   "source": [
    "# Create the state: |1>\n",
    "qr = QuantumRegister(1)\n",
    "circuit = QuantumCircuit(qr)\n",
    "circuit.x(qr[0])\n",
    "statevector_pretty(circuit)"
   ]
  },
  {
   "cell_type": "code",
   "execution_count": 4,
   "metadata": {},
   "outputs": [
    {
     "data": {
      "text/markdown": [
       "\\begin{pmatrix}0.71 - 0.00j\\\\-0.71 + 0j\\end{pmatrix}"
      ],
      "text/plain": [
       "<IPython.core.display.Markdown object>"
      ]
     },
     "metadata": {},
     "output_type": "display_data"
    }
   ],
   "source": [
    "# Create the state: |0> - |1> (normalized)\n",
    "qr = QuantumRegister(1)\n",
    "circuit = QuantumCircuit(qr)\n",
    "circuit.x(qr[0])  # Flip the qubit\n",
    "circuit.h(qr[0])  # Superposition state using Hadamard\n",
    "statevector_pretty(circuit)"
   ]
  },
  {
   "cell_type": "markdown",
   "metadata": {},
   "source": [
    "# 2 Qbit Wavefunctions"
   ]
  },
  {
   "cell_type": "code",
   "execution_count": 16,
   "metadata": {},
   "outputs": [
    {
     "name": "stdout",
     "output_type": "stream",
     "text": [
      "[0.5+0.j 0.5+0.j 0.5+0.j 0.5+0.j]\n"
     ]
    },
    {
     "data": {
      "text/markdown": [
       "\\begin{pmatrix}0.50\\\\0\\\\0\\\\0\\end{pmatrix}"
      ],
      "text/plain": [
       "<IPython.core.display.Markdown object>"
      ]
     },
     "metadata": {},
     "output_type": "display_data"
    }
   ],
   "source": [
    "# All states have equal probability\n",
    "qr = QuantumRegister(2)\n",
    "circuit = QuantumCircuit(qr)\n",
    "circuit.h(qr[0])\n",
    "circuit.h(qr[1])\n",
    "sv = statevector(circuit)\n",
    "print(sv)\n",
    "statevector_pretty(circuit)"
   ]
  },
  {
   "cell_type": "code",
   "execution_count": 7,
   "metadata": {},
   "outputs": [
    {
     "data": {
      "text/markdown": [
       "\\begin{pmatrix}0\\\\1\\\\0\\\\0\\end{pmatrix}"
      ],
      "text/plain": [
       "<IPython.core.display.Markdown object>"
      ]
     },
     "metadata": {},
     "output_type": "display_data"
    }
   ],
   "source": [
    "# The wavefunction is definitely in the state |01>\n",
    "# Note: in QISkit notation, |01> means the 0 qbit is in state |1> and the 1 qbit is in state |0>\n",
    "qr = QuantumRegister(2)\n",
    "circuit = QuantumCircuit(qr)\n",
    "circuit.x(qr[0])  # Flip the first qbit\n",
    "statevector_pretty(circuit)"
   ]
  },
  {
   "cell_type": "code",
   "execution_count": 8,
   "metadata": {},
   "outputs": [
    {
     "data": {
      "text/markdown": [
       "\\begin{pmatrix}0.71\\\\0\\\\0\\\\0.71\\end{pmatrix}"
      ],
      "text/plain": [
       "<IPython.core.display.Markdown object>"
      ]
     },
     "metadata": {},
     "output_type": "display_data"
    },
    {
     "data": {
      "image/png": "[encoded data removed]",
      "text/plain": [
       "<Figure size 504x360 with 1 Axes>"
      ]
     },
     "execution_count": 8,
     "metadata": {},
     "output_type": "execute_result"
    }
   ],
   "source": [
    "# The wafefunction is in the maximally entangled state |00> + |11> (normalized)\n",
    "qr = QuantumRegister(2)\n",
    "circuit = QuantumCircuit(qr)\n",
    "circuit.h(0)       # Put qbit0 into superposition state\n",
    "circuit.cx(0,1)    # Control-Not with target= qbit1,  control= qbit0\n",
    "statevector_pretty(circuit)\n",
    "\n",
    "circuit.measure_all()\n",
    "counts = execute(circuit,Aer.get_backend('qasm_simulator')).result().get_counts()\n",
    "plot_histogram(counts)"
   ]
  },
  {
   "cell_type": "code",
   "execution_count": 9,
   "metadata": {},
   "outputs": [
    {
     "data": {
      "text/markdown": [
       "\\begin{pmatrix}0\\\\0.71\\\\0.71\\\\0\\end{pmatrix}"
      ],
      "text/plain": [
       "<IPython.core.display.Markdown object>"
      ]
     },
     "metadata": {},
     "output_type": "display_data"
    },
    {
     "data": {
      "image/png": "[encoded data removed]",
      "text/plain": [
       "<Figure size 504x360 with 1 Axes>"
      ]
     },
     "execution_count": 9,
     "metadata": {},
     "output_type": "execute_result"
    }
   ],
   "source": [
    "# The wavefunction is in the state |10> + |01> (normalized)\n",
    "qr = QuantumRegister(2)\n",
    "circuit = QuantumCircuit(qr)\n",
    "circuit.h(0)       # Put qbit0 into superposition state\n",
    "circuit.cx(0,1)    # Control-Not with target = qbit1 control = qbit0\n",
    "circuit.x(1)       # Flip qbit1\n",
    "statevector_pretty(circuit)\n",
    "\n",
    "circuit.measure_all()\n",
    "counts = execute(circuit,Aer.get_backend('qasm_simulator')).result().get_counts()\n",
    "plot_histogram(counts)"
   ]
  },
  {
   "cell_type": "markdown",
   "metadata": {},
   "source": [
    "# 3 Qbit Wavefunctions\n",
    "\n",
    "Note on order:\n",
    "In |abc>\n",
    " - a denotes QBit2\n",
    " - b denotes QBit1\n",
    " - c denotes QBit0\n",
    "\n",
    "The statevector order is:\n",
    "(|000> , |001> , |010> , |011> , |100> , |101> , |110> , |111>)"
   ]
  },
  {
   "cell_type": "code",
   "execution_count": 10,
   "metadata": {},
   "outputs": [
    {
     "data": {
      "text/markdown": [
       "\\begin{pmatrix}0\\\\0\\\\0\\\\0\\\\0\\\\0\\\\0\\\\0\\end{pmatrix}"
      ],
      "text/plain": [
       "<IPython.core.display.Markdown object>"
      ]
     },
     "metadata": {},
     "output_type": "display_data"
    }
   ],
   "source": [
    "# Build (normalized) Wavefunction:\n",
    "#    |000> + |001> + |010> + |011> + |100> + |101> + |110> + |111>\n",
    "qr = QuantumRegister(3)\n",
    "circuit = QuantumCircuit(qr)\n",
    "\n",
    "circuit.h(0)  # Hadamard on QBit0 (send to superposition state)\n",
    "circuit.h(1)\n",
    "circuit.h(2)\n",
    "\n",
    "statevector_pretty(circuit)"
   ]
  },
  {
   "cell_type": "code",
   "execution_count": 11,
   "metadata": {},
   "outputs": [
    {
     "data": {
      "text/markdown": [
       "\\begin{pmatrix}0\\\\0\\\\0\\\\0\\\\0\\\\0\\\\0\\\\0\\end{pmatrix}"
      ],
      "text/plain": [
       "<IPython.core.display.Markdown object>"
      ]
     },
     "metadata": {},
     "output_type": "display_data"
    }
   ],
   "source": [
    "# Build (normalized) Wavefunction:\n",
    "#    |000> + |001> + |010> + |011> - |100> - |101> - |110> - |111>\n",
    "# Note the ordering of the state vector \n",
    "qr = QuantumRegister(3)\n",
    "circuit = QuantumCircuit(qr)\n",
    "\n",
    "circuit.x(0)  # Flip QBit0\n",
    "circuit.h(0)  # Hadamard on QBit0\n",
    "circuit.x(1)  # ...\n",
    "circuit.h(1)\n",
    "circuit.x(2)\n",
    "circuit.h(2)\n",
    "\n",
    "statevector_pretty(circuit)"
   ]
  },
  {
   "cell_type": "code",
   "execution_count": 12,
   "metadata": {},
   "outputs": [
    {
     "data": {
      "text/markdown": [
       "\\begin{pmatrix}0.50\\\\0\\\\0\\\\0\\\\0\\\\0\\\\0\\\\0\\end{pmatrix}"
      ],
      "text/plain": [
       "<IPython.core.display.Markdown object>"
      ]
     },
     "metadata": {},
     "output_type": "display_data"
    }
   ],
   "source": [
    "# Build Wavefunction:\n",
    "#    |000> + |001> + |010> + |011>\n",
    "qr = QuantumRegister(3)\n",
    "circuit = QuantumCircuit(qr)\n",
    "\n",
    "circuit.h(0)\n",
    "circuit.h(1)\n",
    "\n",
    "statevector_pretty(circuit)"
   ]
  },
  {
   "cell_type": "markdown",
   "metadata": {},
   "source": [
    "## Entangled States"
   ]
  },
  {
   "cell_type": "code",
   "execution_count": 13,
   "metadata": {},
   "outputs": [
    {
     "data": {
      "text/markdown": [
       "\\begin{pmatrix}0.71\\\\0\\\\0\\\\0\\\\0\\\\0\\\\0\\\\0.71\\end{pmatrix}"
      ],
      "text/plain": [
       "<IPython.core.display.Markdown object>"
      ]
     },
     "metadata": {},
     "output_type": "display_data"
    }
   ],
   "source": [
    "# Build Wavefunction:\n",
    "#    |000> + |111>\n",
    "qr = QuantumRegister(3)\n",
    "circuit = QuantumCircuit(qr)\n",
    "\n",
    "circuit.h(0)\n",
    "circuit.cx(0,1)\n",
    "circuit.cx(0,2)\n",
    "\n",
    "statevector_pretty(circuit)"
   ]
  }
 ],
 "metadata": {
  "kernelspec": {
   "display_name": "Python 3",
   "language": "python",
   "name": "python3"
  },
  "language_info": {
   "codemirror_mode": {
    "name": "ipython",
    "version": 3
   },
   "file_extension": ".py",
   "mimetype": "text/x-python",
   "name": "python",
   "nbconvert_exporter": "python",
   "pygments_lexer": "ipython3",
   "version": "3.7.4"
  }
 },
 "nbformat": 4,
 "nbformat_minor": 2
}
