{
 "cells": [
  {
   "cell_type": "markdown",
   "metadata": {},
   "source": [
    "This notebook is practice creating quantum circuits and doubles as practice visualizing tensor products of the Pauli Matrices.\n",
    "\n",
    "### Note on Tensor Order\n",
    "The tensor order in QISkit is reversed from the *standard* notation, so that A tensor B has the elements of B as the major tenor pattern and the elements of A define the minor pattern."
   ]
  },
  {
   "cell_type": "code",
   "execution_count": 1,
   "metadata": {},
   "outputs": [],
   "source": [
    "from math import floor\n",
    "\n",
    "from qiskit import *\n",
    "from IPython.display import display, Markdown, Latex\n",
    "\n",
    "unitary_simulator = Aer.get_backend('unitary_simulator')\n",
    "\n",
    "def complex_pretty(c):\n",
    "    if c.imag == 0 and c.real == 0:\n",
    "        return '0'\n",
    "    elif c.imag == 0:\n",
    "        if c.real == floor(c.real):\n",
    "            return str(int(floor(c.real)))\n",
    "        else:\n",
    "            return str(c.real)\n",
    "    return str(c)\n",
    "\n",
    "def matrix_pretty(circuit):\n",
    "    job = execute(circuit, unitary_simulator)\n",
    "    result = job.result()\n",
    "    gate = result.get_unitary()\n",
    "    gate_latex = '\\\\begin{pmatrix}'\n",
    "    for line in gate:\n",
    "        for element in line:\n",
    "            gate_latex += complex_pretty(element) + '&'\n",
    "        gate_latex  = gate_latex[0:-1]\n",
    "        gate_latex +=  '\\\\\\\\'\n",
    "    gate_latex  = gate_latex[0:-2]\n",
    "    gate_latex += '\\end{pmatrix}'\n",
    "    display(Markdown(gate_latex))"
   ]
  },
  {
   "cell_type": "markdown",
   "metadata": {},
   "source": [
    "# Pauli X tensor Pauli X"
   ]
  },
  {
   "cell_type": "code",
   "execution_count": 2,
   "metadata": {},
   "outputs": [
    {
     "data": {
      "text/markdown": [
       "\\begin{pmatrix}0&0&0&1\\\\0&0&1&0\\\\0&1&0&0\\\\1&0&0&0\\end{pmatrix}"
      ],
      "text/plain": [
       "<IPython.core.display.Markdown object>"
      ]
     },
     "metadata": {},
     "output_type": "display_data"
    }
   ],
   "source": [
    "qr = QuantumRegister(2)\n",
    "circuit = QuantumCircuit(qr)\n",
    "circuit.x(1)\n",
    "circuit.x(0)\n",
    "matrix_pretty(circuit)"
   ]
  },
  {
   "cell_type": "markdown",
   "metadata": {},
   "source": [
    "# Pauli X tensor Pauli Y"
   ]
  },
  {
   "cell_type": "code",
   "execution_count": 3,
   "metadata": {},
   "outputs": [
    {
     "data": {
      "text/markdown": [
       "\\begin{pmatrix}0&0&0&-1j\\\\0&0&1j&0\\\\0&-1j&0&0\\\\1j&0&0&0\\end{pmatrix}"
      ],
      "text/plain": [
       "<IPython.core.display.Markdown object>"
      ]
     },
     "metadata": {},
     "output_type": "display_data"
    }
   ],
   "source": [
    "qr = QuantumRegister(2)\n",
    "circuit = QuantumCircuit(qr)\n",
    "circuit.x(1)\n",
    "circuit.y(0)\n",
    "matrix_pretty(circuit)"
   ]
  },
  {
   "cell_type": "markdown",
   "metadata": {},
   "source": [
    "# Pauli X tensor Pauli Z"
   ]
  },
  {
   "cell_type": "code",
   "execution_count": 4,
   "metadata": {},
   "outputs": [
    {
     "data": {
      "text/markdown": [
       "\\begin{pmatrix}0&0&1&0\\\\0&0&0&-1\\\\1&0&0&0\\\\0&-1&0&0\\end{pmatrix}"
      ],
      "text/plain": [
       "<IPython.core.display.Markdown object>"
      ]
     },
     "metadata": {},
     "output_type": "display_data"
    }
   ],
   "source": [
    "qr = QuantumRegister(2)\n",
    "circuit = QuantumCircuit(qr)\n",
    "circuit.x(1)\n",
    "circuit.z(0)\n",
    "matrix_pretty(circuit)"
   ]
  },
  {
   "cell_type": "markdown",
   "metadata": {},
   "source": [
    "# Pauli Y tensor Pauli X"
   ]
  },
  {
   "cell_type": "code",
   "execution_count": 5,
   "metadata": {},
   "outputs": [
    {
     "data": {
      "text/markdown": [
       "\\begin{pmatrix}0&0&0&-1j\\\\0&0&-1j&0\\\\0&1j&0&0\\\\1j&0&0&0\\end{pmatrix}"
      ],
      "text/plain": [
       "<IPython.core.display.Markdown object>"
      ]
     },
     "metadata": {},
     "output_type": "display_data"
    }
   ],
   "source": [
    "qr = QuantumRegister(2)\n",
    "circuit = QuantumCircuit(qr)\n",
    "circuit.y(1)\n",
    "circuit.x(0)\n",
    "matrix_pretty(circuit)"
   ]
  },
  {
   "cell_type": "markdown",
   "metadata": {},
   "source": [
    "# Pauli Y tensor Pauli Y"
   ]
  },
  {
   "cell_type": "code",
   "execution_count": 6,
   "metadata": {},
   "outputs": [
    {
     "data": {
      "text/markdown": [
       "\\begin{pmatrix}0&0&0&-1\\\\0&0&1&0\\\\0&1&0&0\\\\-1&0&0&0\\end{pmatrix}"
      ],
      "text/plain": [
       "<IPython.core.display.Markdown object>"
      ]
     },
     "metadata": {},
     "output_type": "display_data"
    }
   ],
   "source": [
    "qr = QuantumRegister(2)\n",
    "circuit = QuantumCircuit(qr)\n",
    "circuit.y(1)\n",
    "circuit.y(0)\n",
    "matrix_pretty(circuit)"
   ]
  },
  {
   "cell_type": "markdown",
   "metadata": {},
   "source": [
    "# Pauli Y tensor Pauli Z"
   ]
  },
  {
   "cell_type": "code",
   "execution_count": 7,
   "metadata": {},
   "outputs": [
    {
     "data": {
      "text/markdown": [
       "\\begin{pmatrix}0&0&-1j&0\\\\0&0&0&1j\\\\1j&0&0&0\\\\0&-1j&0&0\\end{pmatrix}"
      ],
      "text/plain": [
       "<IPython.core.display.Markdown object>"
      ]
     },
     "metadata": {},
     "output_type": "display_data"
    }
   ],
   "source": [
    "qr = QuantumRegister(2)\n",
    "circuit = QuantumCircuit(qr)\n",
    "circuit.y(1)\n",
    "circuit.z(0)\n",
    "matrix_pretty(circuit)"
   ]
  },
  {
   "cell_type": "markdown",
   "metadata": {},
   "source": [
    "# Pauli Z tensor Pauli X"
   ]
  },
  {
   "cell_type": "code",
   "execution_count": 8,
   "metadata": {},
   "outputs": [
    {
     "data": {
      "text/markdown": [
       "\\begin{pmatrix}0&1&0&0\\\\1&0&0&0\\\\0&0&0&-1\\\\0&0&-1&0\\end{pmatrix}"
      ],
      "text/plain": [
       "<IPython.core.display.Markdown object>"
      ]
     },
     "metadata": {},
     "output_type": "display_data"
    }
   ],
   "source": [
    "qr = QuantumRegister(2)\n",
    "circuit = QuantumCircuit(qr)\n",
    "circuit.z(1)\n",
    "circuit.x(0)\n",
    "matrix_pretty(circuit)"
   ]
  },
  {
   "cell_type": "markdown",
   "metadata": {},
   "source": [
    "# Pauli Z tensor Pauli Y"
   ]
  },
  {
   "cell_type": "code",
   "execution_count": 9,
   "metadata": {},
   "outputs": [
    {
     "data": {
      "text/markdown": [
       "\\begin{pmatrix}0&-1j&0&0\\\\1j&0&0&0\\\\0&0&0&1j\\\\0&0&-1j&0\\end{pmatrix}"
      ],
      "text/plain": [
       "<IPython.core.display.Markdown object>"
      ]
     },
     "metadata": {},
     "output_type": "display_data"
    }
   ],
   "source": [
    "qr = QuantumRegister(2)\n",
    "circuit = QuantumCircuit(qr)\n",
    "circuit.z(1)\n",
    "circuit.y(0)\n",
    "matrix_pretty(circuit)"
   ]
  },
  {
   "cell_type": "markdown",
   "metadata": {},
   "source": [
    "# Pauli Z tensor Pauli Z"
   ]
  },
  {
   "cell_type": "code",
   "execution_count": 10,
   "metadata": {},
   "outputs": [
    {
     "data": {
      "text/markdown": [
       "\\begin{pmatrix}1&0&0&0\\\\0&-1&0&0\\\\0&0&-1&0\\\\0&0&0&1\\end{pmatrix}"
      ],
      "text/plain": [
       "<IPython.core.display.Markdown object>"
      ]
     },
     "metadata": {},
     "output_type": "display_data"
    }
   ],
   "source": [
    "qr = QuantumRegister(2)\n",
    "circuit = QuantumCircuit(qr)\n",
    "circuit.z(1)\n",
    "circuit.z(0)\n",
    "matrix_pretty(circuit)"
   ]
  }
 ],
 "metadata": {
  "kernelspec": {
   "display_name": "Python 3",
   "language": "python",
   "name": "python3"
  },
  "language_info": {
   "codemirror_mode": {
    "name": "ipython",
    "version": 3
   },
   "file_extension": ".py",
   "mimetype": "text/x-python",
   "name": "python",
   "nbconvert_exporter": "python",
   "pygments_lexer": "ipython3",
   "version": "3.6.9"
  }
 },
 "nbformat": 4,
 "nbformat_minor": 2
}
