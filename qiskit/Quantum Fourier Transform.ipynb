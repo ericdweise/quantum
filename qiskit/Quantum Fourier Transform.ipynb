{
 "cells": [
  {
   "cell_type": "markdown",
   "metadata": {},
   "source": [
    "# Practicing Quantum Fourier Transform\n",
    "Following the instructions from [QISkit](https://qiskit.org/textbook/ch-algorithms/quantum-fourier-transform.html)"
   ]
  },
  {
   "cell_type": "code",
   "execution_count": 1,
   "metadata": {},
   "outputs": [],
   "source": [
    "from math import pi, sqrt\n",
    "\n",
    "from qiskit import *\n",
    "\n",
    "from myqiskit.visualize import matrix_pretty\n",
    "\n",
    "def fourier_transform(circuit):\n",
    "    \"\"\"n-qubit QFT in circuit.\"\"\"\n",
    "    for j in range(circuit.n_qubits):\n",
    "        circuit.h(circuit.qubits[j])\n",
    "        for k in range(j+1, circuit.n_qubits):\n",
    "            circuit.cu1(pi/float(2**(k-j)), circuit.qubits[k], circuit.qubits[j])\n",
    "        circuit.barrier()\n",
    "\n",
    "def run_simulation(circuit, n_shots=1024):\n",
    "    backend = Aer.get_backend(\"qasm_simulator\")\n",
    "    simulate = execute(circuit, backend=backend, shots=n_shots).result()\n",
    "    return simulate.get_counts()\n",
    "\n",
    "def run_on_quantum_device(circuit, n_shots=2048):\n",
    "    IBMQ.get_provider(hub='ibm-q')\n",
    "    backend = provider.get_backend('ibmq_vigo')\n",
    "    shots = 2048\n",
    "    job_exp = execute(qft3, backend=backend, shots=shots)\n",
    "    job_monitor(job_exp)\n",
    "    return job_exp.result()"
   ]
  },
  {
   "cell_type": "code",
   "execution_count": 2,
   "metadata": {},
   "outputs": [
    {
     "data": {
      "text/markdown": [
       "\\begin{pmatrix}0.35&0.35&0.35&0.35&0.35&0.35&0.35&0.35\\\\0.35&-0.35&0.35j&-0.35j&0.25 + 0.25j&-0.25 - 0.25j&-0.25 + 0.25j&0.25 - 0.25j\\\\0.35&0.35&-0.35&-0.35&0.35j&0.35j&-0.35j&-0.35j\\\\0.35&-0.35&-0.35j&0.35j&-0.25 + 0.25j&0.25 - 0.25j&0.25 + 0.25j&-0.25 - 0.25j\\\\0.35&0.35&0.35&0.35&-0.35&-0.35&-0.35&-0.35\\\\0.35&-0.35&0.35j&-0.35j&-0.25 - 0.25j&0.25 + 0.25j&0.25 - 0.25j&-0.25 + 0.25j\\\\0.35&0.35&-0.35&-0.35&-0.35j&-0.35j&0.35j&0.35j\\\\0.35&-0.35&-0.35j&0.35j&0.25 - 0.25j&-0.25 + 0.25j&-0.25 - 0.25j&0.25 + 0.25j\\end{pmatrix}"
      ],
      "text/plain": [
       "<IPython.core.display.Markdown object>"
      ]
     },
     "metadata": {},
     "output_type": "display_data"
    }
   ],
   "source": [
    "qr = QuantumRegister(3)\n",
    "circuit = QuantumCircuit(qr)\n",
    "fourier_transform(circuit)\n",
    "matrix_pretty(circuit)"
   ]
  },
  {
   "cell_type": "markdown",
   "metadata": {},
   "source": [
    "# Problems\n",
    "I'll try to follow the general problem structure from the QISKit textbook."
   ]
  },
  {
   "cell_type": "code",
   "execution_count": 3,
   "metadata": {},
   "outputs": [
    {
     "data": {
      "text/markdown": [
       "\\begin{pmatrix}0.35\\\\-0.35\\\\-0.35j\\\\0.35j\\\\0.25 - 0.25j\\\\-0.25 + 0.25j\\\\-0.25 - 0.25j\\\\0.25 + 0.25j\\end{pmatrix}"
      ],
      "text/plain": [
       "<IPython.core.display.Markdown object>"
      ]
     },
     "metadata": {},
     "output_type": "display_data"
    },
    {
     "name": "stdout",
     "output_type": "stream",
     "text": [
      "{'001': 1024}\n"
     ]
    }
   ],
   "source": [
    "# Try the given problem:\n",
    "# Make |x> s.t. QFT(|x>) = |001>\n",
    "\n",
    "from myqiskit.visualize import statevector, statevector_pretty\n",
    "\n",
    "qr = QuantumRegister(3)\n",
    "circuit = QuantumCircuit(qr)\n",
    "\n",
    "circuit.h(0)\n",
    "circuit.u1(-pi, 0)\n",
    "circuit.h(1)\n",
    "circuit.u1(-pi/2, 1)\n",
    "circuit.h(2)\n",
    "circuit.u1(-pi/4, 2)\n",
    "statevector_pretty(circuit)\n",
    "\n",
    "fourier_transform(circuit)\n",
    "circuit.measure_all()\n",
    "results = run_simulation(circuit)\n",
    "print(results)"
   ]
  },
  {
   "cell_type": "code",
   "execution_count": 4,
   "metadata": {},
   "outputs": [
    {
     "data": {
      "text/markdown": [
       "\\begin{pmatrix}0.35\\\\0.35\\\\0.35\\\\0.35\\\\-0.35\\\\-0.35\\\\-0.35\\\\-0.35\\end{pmatrix}"
      ],
      "text/plain": [
       "<IPython.core.display.Markdown object>"
      ]
     },
     "metadata": {},
     "output_type": "display_data"
    },
    {
     "name": "stdout",
     "output_type": "stream",
     "text": [
      "{'100': 1024}\n"
     ]
    }
   ],
   "source": [
    "# Problem 1:\n",
    "# Make |x> s.t. QFT(|x>) = |100>\n",
    "# Need statevector ()\n",
    "qr = QuantumRegister(3)\n",
    "circuit = QuantumCircuit(qr)\n",
    "\n",
    "circuit.h(qr[0])\n",
    "circuit.h(qr[1])\n",
    "circuit.h(qr[2])\n",
    "circuit.u1(-pi, qr[2])\n",
    "statevector_pretty(circuit)\n",
    "\n",
    "fourier_transform(circuit)\n",
    "circuit.measure_all()\n",
    "results = run_simulation(circuit)\n",
    "print(results)"
   ]
  },
  {
   "cell_type": "code",
   "execution_count": 5,
   "metadata": {},
   "outputs": [
    {
     "data": {
      "text/markdown": [
       "\\begin{pmatrix}0.35\\\\-0.35\\\\-0.35j\\\\0.35j\\\\-0.25 + 0.25j\\\\0.25 - 0.25j\\\\0.25 + 0.25j\\\\-0.25 - 0.25j\\end{pmatrix}"
      ],
      "text/plain": [
       "<IPython.core.display.Markdown object>"
      ]
     },
     "metadata": {},
     "output_type": "display_data"
    },
    {
     "name": "stdout",
     "output_type": "stream",
     "text": [
      "{'101': 1024}\n"
     ]
    }
   ],
   "source": [
    "# Problem 2:\n",
    "# Make |x> s.t. QFT(|x>) = |101>\n",
    "# Need statevector ()\n",
    "qr = QuantumRegister(3)\n",
    "circuit = QuantumCircuit(qr)\n",
    "\n",
    "circuit.h(0)\n",
    "circuit.u1(-pi, 0)\n",
    "circuit.h(1)\n",
    "circuit.u1(-pi/2, 1)\n",
    "circuit.h(2)\n",
    "circuit.z(2)\n",
    "circuit.u1(-pi/4, 2)\n",
    "statevector_pretty(circuit)\n",
    "\n",
    "fourier_transform(circuit)\n",
    "circuit.measure_all()\n",
    "results = run_simulation(circuit)\n",
    "print(results)"
   ]
  },
  {
   "cell_type": "code",
   "execution_count": 6,
   "metadata": {},
   "outputs": [
    {
     "data": {
      "text/markdown": [
       "\\begin{pmatrix}0.35\\\\0.35\\\\0.35\\\\0.35\\\\0.35\\\\0.35\\\\0.35\\\\0.35\\end{pmatrix}"
      ],
      "text/plain": [
       "<IPython.core.display.Markdown object>"
      ]
     },
     "metadata": {},
     "output_type": "display_data"
    },
    {
     "name": "stdout",
     "output_type": "stream",
     "text": [
      "{'000': 1024}\n"
     ]
    }
   ],
   "source": [
    "# Extra 1:\n",
    "# Make |x> s.t. QFT(|x>) = |000>\n",
    "qr = QuantumRegister(3)\n",
    "circuit = QuantumCircuit(qr)\n",
    "\n",
    "circuit.h(0)\n",
    "circuit.h(1)\n",
    "circuit.h(2)\n",
    "statevector_pretty(circuit)\n",
    "\n",
    "fourier_transform(circuit)\n",
    "circuit.measure_all()\n",
    "results = run_simulation(circuit)\n",
    "print(results)"
   ]
  },
  {
   "cell_type": "code",
   "execution_count": 7,
   "metadata": {},
   "outputs": [
    {
     "data": {
      "text/markdown": [
       "\\begin{pmatrix}0.35\\\\0.35\\\\-0.35\\\\-0.35\\\\-0.35j\\\\-0.35j\\\\0.35j\\\\0.35j\\end{pmatrix}"
      ],
      "text/plain": [
       "<IPython.core.display.Markdown object>"
      ]
     },
     "metadata": {},
     "output_type": "display_data"
    },
    {
     "name": "stdout",
     "output_type": "stream",
     "text": [
      "{'010': 1024}\n"
     ]
    }
   ],
   "source": [
    "# Extra 2:\n",
    "# Make |x> s.t. QFT(|x>) = |010>\n",
    "# Need statevector ()\n",
    "qr = QuantumRegister(3)\n",
    "circuit = QuantumCircuit(qr)\n",
    "\n",
    "\n",
    "circuit.h(qr[0])\n",
    "circuit.h(qr[1])\n",
    "circuit.u1(-pi/float(2**(0)), qr[1])\n",
    "circuit.h(qr[2])\n",
    "circuit.u1(-pi/float(2**(1)), qr[2])\n",
    "statevector_pretty(circuit)\n",
    "\n",
    "fourier_transform(circuit)\n",
    "circuit.measure_all()\n",
    "results = run_simulation(circuit)\n",
    "print(results)"
   ]
  },
  {
   "cell_type": "code",
   "execution_count": 8,
   "metadata": {},
   "outputs": [
    {
     "data": {
      "text/markdown": [
       "\\begin{pmatrix}0.35\\\\0.35\\\\-0.35\\\\-0.35\\\\0.35j\\\\0.35j\\\\-0.35j\\\\-0.35j\\end{pmatrix}"
      ],
      "text/plain": [
       "<IPython.core.display.Markdown object>"
      ]
     },
     "metadata": {},
     "output_type": "display_data"
    },
    {
     "name": "stdout",
     "output_type": "stream",
     "text": [
      "{'110': 1024}\n"
     ]
    }
   ],
   "source": [
    "# Extra 3:\n",
    "# Make |x> s.t. QFT(|x>) = |110>\n",
    "qr = QuantumRegister(3)\n",
    "circuit = QuantumCircuit(qr)\n",
    "\n",
    "circuit.h(0)\n",
    "circuit.h(1)\n",
    "circuit.z(1)\n",
    "circuit.h(2)\n",
    "circuit.u1(-3*pi/2, 2)\n",
    "statevector_pretty(circuit)\n",
    "\n",
    "fourier_transform(circuit)\n",
    "circuit.measure_all()\n",
    "results = run_simulation(circuit)\n",
    "print(results)"
   ]
  },
  {
   "cell_type": "code",
   "execution_count": 9,
   "metadata": {},
   "outputs": [
    {
     "data": {
      "text/markdown": [
       "\\begin{pmatrix}0.35\\\\-0.35\\\\0.35j\\\\-0.35j\\\\-0.25 - 0.25j\\\\0.25 + 0.25j\\\\0.25 - 0.25j\\\\-0.25 + 0.25j\\end{pmatrix}"
      ],
      "text/plain": [
       "<IPython.core.display.Markdown object>"
      ]
     },
     "metadata": {},
     "output_type": "display_data"
    },
    {
     "name": "stdout",
     "output_type": "stream",
     "text": [
      "{'011': 1024}\n"
     ]
    }
   ],
   "source": [
    "# Extra 4:\n",
    "# Make |x> s.t. QFT(|x>) = |011>\n",
    "# Need statevector ()\n",
    "qr = QuantumRegister(3)\n",
    "circuit = QuantumCircuit(qr)\n",
    "\n",
    "circuit.h(0)\n",
    "circuit.u1(-pi, 0)\n",
    "circuit.h(1)\n",
    "circuit.u1(-3*pi/2, 1)\n",
    "circuit.z(2)\n",
    "circuit.h(2)\n",
    "circuit.u1(-3*pi/4, 2)\n",
    "statevector_pretty(circuit)\n",
    "\n",
    "fourier_transform(circuit)\n",
    "circuit.measure_all()\n",
    "results = run_simulation(circuit)\n",
    "print(results)"
   ]
  },
  {
   "cell_type": "code",
   "execution_count": 10,
   "metadata": {},
   "outputs": [
    {
     "data": {
      "text/markdown": [
       "\\begin{pmatrix}0.35\\\\-0.35\\\\0.35j\\\\-0.35j\\\\0.25 + 0.25j\\\\-0.25 - 0.25j\\\\-0.25 + 0.25j\\\\0.25 - 0.25j\\end{pmatrix}"
      ],
      "text/plain": [
       "<IPython.core.display.Markdown object>"
      ]
     },
     "metadata": {},
     "output_type": "display_data"
    },
    {
     "name": "stdout",
     "output_type": "stream",
     "text": [
      "{'111': 1024}\n"
     ]
    }
   ],
   "source": [
    "# Extra 5:\n",
    "# Make |x> s.t. QFT(|x>) = |111>\n",
    "qr = QuantumRegister(3)\n",
    "circuit = QuantumCircuit(qr)\n",
    "\n",
    "circuit.h(0)\n",
    "circuit.u1(-pi, 0)\n",
    "circuit.h(1)\n",
    "circuit.u1(-3*pi/2, 1)\n",
    "circuit.h(2)\n",
    "circuit.u1(pi/4, 2)\n",
    "statevector_pretty(circuit)\n",
    "\n",
    "fourier_transform(circuit)\n",
    "circuit.measure_all()\n",
    "results = run_simulation(circuit)\n",
    "print(results)"
   ]
  }
 ],
 "metadata": {
  "kernelspec": {
   "display_name": "Python 3",
   "language": "python",
   "name": "python3"
  },
  "language_info": {
   "codemirror_mode": {
    "name": "ipython",
    "version": 3
   },
   "file_extension": ".py",
   "mimetype": "text/x-python",
   "name": "python",
   "nbconvert_exporter": "python",
   "pygments_lexer": "ipython3",
   "version": "3.7.4"
  }
 },
 "nbformat": 4,
 "nbformat_minor": 2
}
